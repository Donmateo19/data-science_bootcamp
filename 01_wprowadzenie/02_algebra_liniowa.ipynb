{
  "nbformat": 4,
  "nbformat_minor": 0,
  "metadata": {
    "colab": {
      "name": "02_algebra_liniowa.ipynb",
      "provenance": [],
      "collapsed_sections": [],
      "authorship_tag": "ABX9TyOzf8XaM/gPC88vlBiSFVf8",
      "include_colab_link": true
    },
    "kernelspec": {
      "name": "python3",
      "display_name": "Python 3"
    },
    "language_info": {
      "name": "python"
    }
  },
  "cells": [
    {
      "cell_type": "markdown",
      "metadata": {
        "id": "view-in-github",
        "colab_type": "text"
      },
      "source": [
        "<a href=\"https://colab.research.google.com/github/Donmateo19/data-science_bootcamp/blob/main/01_wprowadzenie/02_algebra_liniowa.ipynb\" target=\"_parent\"><img src=\"https://colab.research.google.com/assets/colab-badge.svg\" alt=\"Open In Colab\"/></a>"
      ]
    },
    {
      "cell_type": "code",
      "metadata": {
        "id": "NlZLGy_wOnNk",
        "colab": {
          "base_uri": "https://localhost:8080/"
        },
        "outputId": "c43f8b52-9582-47d1-be8c-1fa237bac1fa"
      },
      "source": [
        "import numpy as np\n",
        "v1 = np.array([-1,4])\n",
        "v1\n",
        "np.linalg.norm(v1)"
      ],
      "execution_count": 3,
      "outputs": [
        {
          "output_type": "execute_result",
          "data": {
            "text/plain": [
              "4.123105625617661"
            ]
          },
          "metadata": {},
          "execution_count": 3
        }
      ]
    },
    {
      "cell_type": "code",
      "metadata": {
        "colab": {
          "base_uri": "https://localhost:8080/"
        },
        "id": "FhQzemE0FOEb",
        "outputId": "9d3e4b6c-a948-4547-a8b2-616343858737"
      },
      "source": [
        "v2=np.array([-10,10,13])\n",
        "np.linalg.norm(v2)"
      ],
      "execution_count": 4,
      "outputs": [
        {
          "output_type": "execute_result",
          "data": {
            "text/plain": [
              "19.209372712298546"
            ]
          },
          "metadata": {},
          "execution_count": 4
        }
      ]
    },
    {
      "cell_type": "code",
      "metadata": {
        "colab": {
          "base_uri": "https://localhost:8080/"
        },
        "id": "wrf_5kfbGZ0k",
        "outputId": "5b167782-741b-40a8-a666-df0331c3ea24"
      },
      "source": [
        "p = np.array([3,0])\n",
        "q = np.array([0,4])\n",
        "np.linalg.norm(q-p)"
      ],
      "execution_count": 6,
      "outputs": [
        {
          "output_type": "execute_result",
          "data": {
            "text/plain": [
              "5.0"
            ]
          },
          "metadata": {},
          "execution_count": 6
        }
      ]
    },
    {
      "cell_type": "markdown",
      "metadata": {
        "id": "kwhbbaVhGu_D"
      },
      "source": [
        "Odległość w 3D"
      ]
    },
    {
      "cell_type": "code",
      "metadata": {
        "colab": {
          "base_uri": "https://localhost:8080/"
        },
        "id": "HfxgS75XGwrU",
        "outputId": "054dafa0-b190-432b-bbd6-deb7b724431f"
      },
      "source": [
        "p = np.array([3,0,1])\n",
        "q = np.array([0,4,2])\n",
        "np.linalg.norm(p-q)"
      ],
      "execution_count": 7,
      "outputs": [
        {
          "output_type": "execute_result",
          "data": {
            "text/plain": [
              "5.0990195135927845"
            ]
          },
          "metadata": {},
          "execution_count": 7
        }
      ]
    },
    {
      "cell_type": "markdown",
      "metadata": {
        "id": "bP9tklQgHyxp"
      },
      "source": [
        "mnozenie macierzy NIE JEST PRZEMIENNE\n"
      ]
    },
    {
      "cell_type": "code",
      "metadata": {
        "colab": {
          "base_uri": "https://localhost:8080/"
        },
        "id": "Ug8JeWHBH05E",
        "outputId": "bbba7ebe-7179-4e88-c3cd-823d95be5201"
      },
      "source": [
        "X = np.array([[5,3],[3,9]])\n",
        "Y = np.array([[1],[-1]])\n",
        "print(X, '\\n')\n",
        "print(Y,'\\n')\n",
        "\n",
        "print(np.dot(X,Y))\n",
        "print(X.dot(Y))\n",
        "Z = X@Y\n",
        "print('n',Z)\n",
        "\n",
        "print(\"to tyle \")\n",
        "Z.shape"
      ],
      "execution_count": 24,
      "outputs": [
        {
          "output_type": "stream",
          "name": "stdout",
          "text": [
            "[[5 3]\n",
            " [3 9]] \n",
            "\n",
            "[[ 1]\n",
            " [-1]] \n",
            "\n",
            "[[ 2]\n",
            " [-6]]\n",
            "[[ 2]\n",
            " [-6]]\n",
            "n [[ 2]\n",
            " [-6]]\n",
            "to tyle \n"
          ]
        },
        {
          "output_type": "execute_result",
          "data": {
            "text/plain": [
              "(2, 1)"
            ]
          },
          "metadata": {},
          "execution_count": 24
        }
      ]
    },
    {
      "cell_type": "markdown",
      "metadata": {
        "id": "hH12bYu-JmRa"
      },
      "source": [
        "Przykład 2"
      ]
    },
    {
      "cell_type": "code",
      "metadata": {
        "colab": {
          "base_uri": "https://localhost:8080/"
        },
        "id": "-zJ3O-4eJnS8",
        "outputId": "962b420d-5cc6-49fc-c707-0bbb1da06611"
      },
      "source": [
        "X = np.array([[2,-1,3],[3,1,0]])\n",
        "Y = np.array([[2,1,-1],[0,-1,2],[3,2,0]])\n",
        "\n",
        "Z= X@Y\n",
        "print(Z)"
      ],
      "execution_count": 26,
      "outputs": [
        {
          "output_type": "stream",
          "name": "stdout",
          "text": [
            "[[13  9 -4]\n",
            " [ 6  2 -1]]\n"
          ]
        }
      ]
    },
    {
      "cell_type": "markdown",
      "metadata": {
        "id": "ShOPmVheOe76"
      },
      "source": [
        "Wyznacznik macierzy\n",
        "Macierz N = nxn *[macierz kwadratowa stopnia n]*\n"
      ]
    },
    {
      "cell_type": "code",
      "metadata": {
        "colab": {
          "base_uri": "https://localhost:8080/"
        },
        "id": "W6mj--UlOnUx",
        "outputId": "2af26191-5012-4267-cd2e-6a45f5c27aea"
      },
      "source": [
        "A = np.array([[2,4],[-1,3]])\n",
        "X=np.linalg.det(A)\n",
        "print(round(X))"
      ],
      "execution_count": 30,
      "outputs": [
        {
          "output_type": "stream",
          "name": "stdout",
          "text": [
            "10\n"
          ]
        }
      ]
    },
    {
      "cell_type": "code",
      "metadata": {
        "colab": {
          "base_uri": "https://localhost:8080/"
        },
        "id": "s-Dy0himQKqx",
        "outputId": "08eb53b6-db2b-493b-eacb-76bed4920ea4"
      },
      "source": [
        "np.trace(A)"
      ],
      "execution_count": 31,
      "outputs": [
        {
          "output_type": "execute_result",
          "data": {
            "text/plain": [
              "5"
            ]
          },
          "metadata": {},
          "execution_count": 31
        }
      ]
    },
    {
      "cell_type": "markdown",
      "metadata": {
        "id": "Fh3dZH3zQYqc"
      },
      "source": [
        "Macierz jednostkowa"
      ]
    },
    {
      "cell_type": "code",
      "metadata": {
        "colab": {
          "base_uri": "https://localhost:8080/"
        },
        "id": "XRr1yn5oQZuv",
        "outputId": "f300e376-9ef2-46bd-c9b0-2fd9f6bc197a"
      },
      "source": [
        "np.eye(4)"
      ],
      "execution_count": 32,
      "outputs": [
        {
          "output_type": "execute_result",
          "data": {
            "text/plain": [
              "array([[1., 0., 0., 0.],\n",
              "       [0., 1., 0., 0.],\n",
              "       [0., 0., 1., 0.],\n",
              "       [0., 0., 0., 1.]])"
            ]
          },
          "metadata": {},
          "execution_count": 32
        }
      ]
    },
    {
      "cell_type": "markdown",
      "metadata": {
        "id": "UxdrE-52Qore"
      },
      "source": [
        "Macierz odwrotna - macierz odwrotna macierzy A, to taka macierz B, przy których mnożeniu (BA albo A=B) wynik jest taki sam"
      ]
    },
    {
      "cell_type": "code",
      "metadata": {
        "colab": {
          "base_uri": "https://localhost:8080/"
        },
        "id": "ckkxOyL5QxWi",
        "outputId": "38a6d84a-33ab-42f4-c6df-c2ae14f93687"
      },
      "source": [
        "np.set_printoptions(precision=4, suppress=True)\n",
        "B=np.linalg.inv(A)\n",
        "B\n",
        "\n",
        "print(A@B)"
      ],
      "execution_count": 37,
      "outputs": [
        {
          "output_type": "stream",
          "name": "stdout",
          "text": [
            "[[1. 0.]\n",
            " [0. 1.]]\n"
          ]
        }
      ]
    },
    {
      "cell_type": "markdown",
      "metadata": {
        "id": "1bXgMpflRxq1"
      },
      "source": [
        "Transponowanie macierzy:"
      ]
    },
    {
      "cell_type": "code",
      "metadata": {
        "colab": {
          "base_uri": "https://localhost:8080/"
        },
        "id": "yUZZnvs9Rykz",
        "outputId": "4b64caa8-321a-4241-fb1e-928c25461dd7"
      },
      "source": [
        "print(A.T)"
      ],
      "execution_count": 39,
      "outputs": [
        {
          "output_type": "stream",
          "name": "stdout",
          "text": [
            "[[ 2 -1]\n",
            " [ 4  3]]\n"
          ]
        }
      ]
    },
    {
      "cell_type": "markdown",
      "metadata": {
        "id": "YTdKBSgpUAbV"
      },
      "source": [
        "rozwiązywanie układów równań\n",
        "\n",
        "2x+4y=10\n",
        "\n",
        "x-y=-1\n",
        "\n",
        "\n",
        "\n"
      ]
    },
    {
      "cell_type": "code",
      "metadata": {
        "id": "c0LNL06lUe2B"
      },
      "source": [
        ""
      ],
      "execution_count": null,
      "outputs": []
    },
    {
      "cell_type": "code",
      "metadata": {
        "colab": {
          "base_uri": "https://localhost:8080/"
        },
        "id": "kPUBVXkQUFOl",
        "outputId": "65547cc8-94df-4d04-d298-8bef74e65786"
      },
      "source": [
        "A  = np.array ([[2,4],[1,- 1]])\n",
        "B = np.array([[10],[-1]])\n",
        "A_inv = np.linalg.inv(A)\n",
        "X=A_inv@B\n",
        "print(X)"
      ],
      "execution_count": 42,
      "outputs": [
        {
          "output_type": "stream",
          "name": "stdout",
          "text": [
            "[[1.]\n",
            " [2.]]\n"
          ]
        }
      ]
    },
    {
      "cell_type": "code",
      "metadata": {
        "id": "gnhwhyAQUfIj"
      },
      "source": [
        ""
      ],
      "execution_count": null,
      "outputs": []
    }
  ]
}